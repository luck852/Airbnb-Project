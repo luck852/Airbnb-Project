{
  "nbformat": 4,
  "nbformat_minor": 0,
  "metadata": {
    "colab": {
      "private_outputs": true,
      "provenance": [],
      "collapsed_sections": [
        "vncDsAP0Gaoa",
        "FJNUwmbgGyua",
        "w6K7xa23Elo4",
        "yQaldy8SH6Dl",
        "PH-0ReGfmX4f",
        "mDgbUHAGgjLW",
        "O_i_v8NEhb9l",
        "HhfV-JJviCcP",
        "Y3lxredqlCYt",
        "3RnN4peoiCZX",
        "x71ZqKXriCWQ",
        "7hBIi_osiCS2",
        "JlHwYmJAmNHm",
        "35m5QtbWiB9F",
        "PoPl-ycgm1ru",
        "H0kj-8xxnORC",
        "nA9Y7ga8ng1Z",
        "PBTbrJXOngz2",
        "u3PMJOP6ngxN",
        "dauF4eBmngu3",
        "bKJF3rekwFvQ",
        "MSa1f5Uengrz",
        "GF8Ens_Soomf",
        "0wOQAZs5pc--",
        "K5QZ13OEpz2H",
        "lQ7QKXXCp7Bj",
        "448CDAPjqfQr",
        "KSlN3yHqYklG",
        "t6dVpIINYklI",
        "ijmpgYnKYklI",
        "-JiQyfWJYklI",
        "EM7whBJCYoAo",
        "fge-S5ZAYoAp",
        "85gYPyotYoAp",
        "RoGjAbkUYoAp",
        "4Of9eVA-YrdM",
        "iky9q4vBYrdO",
        "F6T5p64dYrdO",
        "y-Ehk30pYrdP",
        "bamQiAODYuh1",
        "QHF8YVU7Yuh3",
        "GwzvFGzlYuh3",
        "qYpmQ266Yuh3",
        "OH-pJp9IphqM",
        "bbFf2-_FphqN",
        "_ouA3fa0phqN",
        "Seke61FWphqN",
        "PIIx-8_IphqN",
        "t27r6nlMphqO",
        "r2jJGEOYphqO",
        "b0JNsNcRphqO",
        "BZR9WyysphqO",
        "jj7wYXLtphqO",
        "eZrbJ2SmphqO",
        "rFu4xreNphqO",
        "YJ55k-q6phqO",
        "gCFgpxoyphqP",
        "OVtJsKN_phqQ",
        "lssrdh5qphqQ",
        "U2RJ9gkRphqQ",
        "1M8mcRywphqQ",
        "tgIPom80phqQ",
        "JMzcOPDDphqR",
        "x-EpHcCOp1ci",
        "X_VqEhTip1ck",
        "8zGJKyg5p1ck",
        "PVzmfK_Ep1ck",
        "n3dbpmDWp1ck",
        "ylSl6qgtp1ck",
        "ZWILFDl5p1ck",
        "M7G43BXep1ck",
        "Ag9LCva-p1cl",
        "E6MkPsBcp1cl",
        "2cELzS2fp1cl",
        "3MPXvC8up1cl",
        "NC_X3p0fY2L0",
        "UV0SzAkaZNRQ",
        "YPEH6qLeZNRQ",
        "q29F0dvdveiT",
        "EXh0U9oCveiU",
        "22aHeOlLveiV",
        "JcMwzZxoAimU",
        "8G2x9gOozGDZ",
        "gCX9965dhzqZ",
        "gIfDvo9L0UH2"
      ],
      "include_colab_link": true
    },
    "kernelspec": {
      "name": "python3",
      "display_name": "Python 3"
    },
    "language_info": {
      "name": "python"
    }
  },
  "cells": [
    {
      "cell_type": "markdown",
      "metadata": {
        "id": "view-in-github",
        "colab_type": "text"
      },
      "source": [
        "<a href=\"https://colab.research.google.com/github/luck852/Airbnb-Project/blob/main/Airbnb_booking_project_.ipynb\" target=\"_parent\"><img src=\"https://colab.research.google.com/assets/colab-badge.svg\" alt=\"Open In Colab\"/></a>"
      ]
    },
    {
      "cell_type": "markdown",
      "source": [
        "# **Project Name**    - Airbnb Booking Analysis\n",
        "\n",
        "\n",
        "\n",
        "\n",
        "\n"
      ],
      "metadata": {
        "id": "vncDsAP0Gaoa"
      }
    },
    {
      "cell_type": "markdown",
      "source": [
        "##### **Project Type**    - Exploratory Data Analysis\n",
        "##### **Contribution**    - Individual\n"
      ],
      "metadata": {
        "id": "beRrZCGUAJYm"
      }
    },
    {
      "cell_type": "markdown",
      "source": [
        "# **Project Summary -**"
      ],
      "metadata": {
        "id": "FJNUwmbgGyua"
      }
    },
    {
      "cell_type": "markdown",
      "source": [
        "The purpose of the analysis: understanding the factors that influence Airbnb prices in New York City, or identifying patterns of all variables and Our analysis provides useful information for travelers and hosts in the city and also provides some best insights for Airbnb business.\n",
        "\n",
        "This project involved exploring and cleaning a dataset to prepare it for analysis. The data exploration process involved identifying and understanding the characteristics of the data, such as the data types, missing values, and distributions of values. The data cleaning process involved identifying and addressing any issues or inconsistencies in the data, such as errors, missing values, or duplicate records and remove outliers.\n",
        "\n",
        "Through this process, we were able to identify and fix any issues with the data, and ensure that it was ready for further analysis. This is an important step in any data analysis project, as it allows us to work with high-quality data and avoid any potential biases or errors that could affect the results. The clean and prepared data can now be used to answer specific research.\n",
        "\n",
        "Once the data has been cleaned and prepared, now begin exploring and summarizing it with describe the data and creating visualizations, and identifying patterns and trends in the data. in explore the data, may develop the relationships between different variables or the underlying causes of certain patterns or trends and other methods.\n",
        "\n",
        "using data visualization to explore and understand patterns in Airbnb data. We created various graphs and charts to visualize the data, and wrote observations and insights below each one to help us better understand the data and identify useful insights and patterns.\n",
        "\n",
        "The observations and insights we identified through this process will be useful for future analysis and decision-making related to Airbnb. and also Our analysis provides useful information for travelers and hosts in the city."
      ],
      "metadata": {
        "id": "F6v_1wHtG2nS"
      }
    },
    {
      "cell_type": "markdown",
      "source": [
        "# **GitHub Link -**"
      ],
      "metadata": {
        "id": "w6K7xa23Elo4"
      }
    },
    {
      "cell_type": "markdown",
      "source": [
        "https://github.com/luck852/Airbnb-Project"
      ],
      "metadata": {
        "id": "h1o69JH3Eqqn"
      }
    },
    {
      "cell_type": "markdown",
      "source": [
        "# Problem Statements\n",
        "\n",
        "\n"
      ],
      "metadata": {
        "id": "pz17NR0nyvVU"
      }
    },
    {
      "cell_type": "markdown",
      "source": [
        "1.How has the Airbnb market in New York City changed over time? Have there been any significant trends in terms of the number of listings, prices, or occupancy rates?\n",
        "\n",
        "2.Are there any patterns or trends in terms of the types of properties that are being rented out on Airbnb in New York City? Are certain types of properties more popular or more expensive than others?\n",
        "\n",
        "3.Are there any factors that seem to be correlated with the prices of Airbnb rentals in New York City?\n",
        "\n",
        "4.The best area in New York City for a host to buy property at a good price rate and in an area with high traffic ?\n",
        "\n",
        "5.How do the lengths of stay for Airbnb rentals in New York City vary by neighborhood? Do certain neighborhoods tend to attract longer or shorter stays?\n",
        "\n",
        "6.How do the ratings of Airbnb rentals in New York City compare to their prices? Are higher-priced rentals more likely to have higher ratings?\n",
        "\n",
        "7.Find the total numbers of Reviews and Maximum Reviews by Each Neighborhood Group.\n",
        "\n",
        "8.Find Most reviewed room type in Neighborhood groups per month.\n",
        "\n",
        "9.Find Best location listing/property location for travelers.\n",
        "\n",
        "A lots of problem in statements we have to find information and insights through different different problems..."
      ],
      "metadata": {
        "id": "DpeJGUA3kjGy"
      }
    },
    {
      "cell_type": "markdown",
      "source": [
        "# General Guidelines :-"
      ],
      "metadata": {
        "id": "iKPpLbSL7rTi"
      }
    },
    {
      "cell_type": "markdown",
      "source": [
        "1.   Well-structured, formatted, and commented code is required.\n",
        "2.   Exception Handling, Production Grade Code & Deployment Ready Code will be a plus. Those students will be awarded some additional credits.\n",
        "     \n",
        "     The additional credits will have advantages over other students during Star Student selection.\n",
        "       \n",
        "             [ Note: - Deployment Ready Code is defined as, the whole .ipynb notebook should be executable in one go\n",
        "                       without a single error logged. ]\n",
        "\n",
        "3.   Each and every logic should have proper comments.\n",
        "4. You may add as many number of charts you want. Make Sure for each and every chart the following format should be answered.\n",
        "        \n",
        "\n",
        "```\n",
        "# Chart visualization code\n",
        "```\n",
        "            \n",
        "\n",
        "*   Why did you pick the specific chart?\n",
        "*   What is/are the insight(s) found from the chart?\n",
        "* Will the gained insights help creating a positive business impact?\n",
        "Are there any insights that lead to negative growth? Justify with specific reason.\n",
        "\n",
        "5. You have to create at least 20 logical & meaningful charts having important insights.\n",
        "\n",
        "\n",
        "[ Hints : - Do the Vizualization in  a structured way while following \"UBM\" Rule.\n",
        "\n",
        "U - Univariate Analysis,\n",
        "\n",
        "B - Bivariate Analysis (Numerical - Categorical, Numerical - Numerical, Categorical - Categorical)\n",
        "\n",
        "M - Multivariate Analysis\n",
        " ]\n",
        "\n",
        "\n",
        "\n"
      ],
      "metadata": {
        "id": "IEJI6jL9Cub7"
      }
    },
    {
      "cell_type": "markdown",
      "source": [
        "# ***Let's Begin !***"
      ],
      "metadata": {
        "id": "O_i_v8NEhb9l"
      }
    },
    {
      "cell_type": "markdown",
      "source": [
        "### Import libraries"
      ],
      "metadata": {
        "id": "Y3lxredqlCYt"
      }
    },
    {
      "cell_type": "code",
      "source": [
        "import numpy as np\n",
        "import pandas as pd\n",
        "import matplotlib.pyplot as plt  # For visualization\n",
        "%matplotlib inline\n",
        "import seaborn as sns\n",
        "import warnings\n",
        "warnings.filterwarnings('ignore')"
      ],
      "metadata": {
        "id": "M8Vqi-pPk-HR"
      },
      "execution_count": null,
      "outputs": []
    },
    {
      "cell_type": "code",
      "source": [
        "# Load Airbnb Dataset\n",
        "from google.colab import drive\n",
        "drive.mount('/content/drive')"
      ],
      "metadata": {
        "id": "4CkvbW_SlZ_R"
      },
      "execution_count": null,
      "outputs": []
    },
    {
      "cell_type": "code",
      "source": [
        "Airbnb_df=pd.read_csv(\"/Airbnb NYC 2019.csv\")\n",
        "Airbnb_df"
      ],
      "metadata": {
        "id": "ti3S7OrRyGkZ"
      },
      "execution_count": null,
      "outputs": []
    },
    {
      "cell_type": "markdown",
      "source": [
        "About the Dataset Airbnb Bookings\n",
        "\n",
        "1.This dataset contains 48895 from NewYork and 16 columns.\n",
        "\n",
        "2.The Data includes both categorical and numeric values, providing a diverse range of information about the listings.\n",
        "\n"
      ],
      "metadata": {
        "id": "2KK7GJIQzhAE"
      }
    },
    {
      "cell_type": "markdown",
      "source": [
        "**Data Exploration and Data Cleaning**\n"
      ],
      "metadata": {
        "id": "E90D_LWs0wRM"
      }
    },
    {
      "cell_type": "code",
      "source": [
        "Airbnb_df.head().T"
      ],
      "metadata": {
        "id": "KmK7JnDB0hRP"
      },
      "execution_count": null,
      "outputs": []
    },
    {
      "cell_type": "code",
      "source": [
        "# Checking what are the variables here.\n",
        "Airbnb_df.columns"
      ],
      "metadata": {
        "id": "kbrnPi680hN4"
      },
      "execution_count": null,
      "outputs": []
    },
    {
      "cell_type": "markdown",
      "source": [
        "**so now some change column name for better understanding**"
      ],
      "metadata": {
        "id": "9Ri5ndDG2emB"
      }
    },
    {
      "cell_type": "code",
      "source": [
        "rename_col = {'id':'listing_id','name':'listing_name','number_of_reviews':'total_reviews','calculated_host_listings_count':'host_listing_count'}"
      ],
      "metadata": {
        "id": "a7Yb9j8y0hI8"
      },
      "execution_count": null,
      "outputs": []
    },
    {
      "cell_type": "code",
      "source": [
        "# Use pandas to rename current function\n",
        "Airbnb_df = Airbnb_df.rename(columns = rename_col)\n",
        "Airbnb_df.head(2)"
      ],
      "metadata": {
        "id": "KPDuHvlh0hGn"
      },
      "execution_count": null,
      "outputs": []
    },
    {
      "cell_type": "code",
      "source": [
        "# Checking Shape of the Airbnb Dataset\n",
        "Airbnb_df.shape"
      ],
      "metadata": {
        "id": "eU5FTghF0hEH"
      },
      "execution_count": null,
      "outputs": []
    },
    {
      "cell_type": "code",
      "source": [
        "Airbnb_df.info()"
      ],
      "metadata": {
        "id": "WhQ-rgZT0hBz"
      },
      "execution_count": null,
      "outputs": []
    },
    {
      "cell_type": "markdown",
      "source": [
        " **So we can see that listing_name,host_name,neighbourhood_group,neighbourhood and room_type is categorical value.**\n",
        "\n",
        "**While host_id, latitude, longitude, price, minimum_nights, number_of_reviews, last_review, reviews_per_month, host_listings_count, availability_365 are numerical variable.**"
      ],
      "metadata": {
        "id": "Sv_eLCUp4WdS"
      }
    },
    {
      "cell_type": "code",
      "source": [
        "# check duplicate rows in dataset\n",
        "Airbnb_df = Airbnb_df.drop_duplicates()\n",
        "Airbnb_df.count()"
      ],
      "metadata": {
        "id": "HMFuQysL0g_R"
      },
      "execution_count": null,
      "outputs": []
    },
    {
      "cell_type": "markdown",
      "source": [
        "**So, here no duplicate values is present**"
      ],
      "metadata": {
        "id": "7uVqs_sv5qK_"
      }
    },
    {
      "cell_type": "code",
      "source": [
        "# Checking Null values in dataset.\n",
        "Airbnb_df.isnull().sum()\n"
      ],
      "metadata": {
        "id": "uY_55sUu0g8x"
      },
      "execution_count": null,
      "outputs": []
    },
    {
      "cell_type": "markdown",
      "source": [
        "**host_name** and **listing_name** is not match null values so we have to fill some subsitute both columns."
      ],
      "metadata": {
        "id": "hIFyNRTN6MlI"
      }
    },
    {
      "cell_type": "code",
      "source": [
        "Airbnb_df['listing_name'].fillna('unknown',inplace=True)\n",
        "Airbnb_df['host_name'].fillna('unknown',inplace=True)"
      ],
      "metadata": {
        "id": "OmugyzY40g6J"
      },
      "execution_count": null,
      "outputs": []
    },
    {
      "cell_type": "code",
      "source": [
        "# So here null value is removed\n",
        "Airbnb_df[['listing_name','host_name']].isnull().sum()"
      ],
      "metadata": {
        "id": "H-UcStKB0g3Q"
      },
      "execution_count": null,
      "outputs": []
    },
    {
      "cell_type": "markdown",
      "source": [
        "now, in dataset reviews_per_month,last_review have total 10052 null  values.\n",
        "\n",
        "so reviews_per_month,last_review has not neccessary to use for data analysis ,we have to drop these columns."
      ],
      "metadata": {
        "id": "xs-cQw5c7LZQ"
      }
    },
    {
      "cell_type": "code",
      "source": [
        "# Removing last reviews column because of that no much important\n",
        "Airbnb_df = Airbnb_df.drop(['last_review'],axis=1)\n"
      ],
      "metadata": {
        "id": "GMI8teGV0grU"
      },
      "execution_count": null,
      "outputs": []
    },
    {
      "cell_type": "code",
      "source": [
        "Airbnb_df.info() # here last_review column is deleted."
      ],
      "metadata": {
        "id": "3u0xyRLl-yHg"
      },
      "execution_count": null,
      "outputs": []
    },
    {
      "cell_type": "code",
      "source": [
        "#we can impute it with '0' as these listings didnt get any reviews yet\n",
        "Airbnb_df['reviews_per_month'] = Airbnb_df['reviews_per_month'].replace(to_replace=np.nan,value=0).astype('int64')\n"
      ],
      "metadata": {
        "id": "LMcFgnee-yFS"
      },
      "execution_count": null,
      "outputs": []
    },
    {
      "cell_type": "code",
      "source": [
        "# The null value is replaced by 0\n",
        "Airbnb_df['reviews_per_month'].isnull().sum()"
      ],
      "metadata": {
        "id": "dsVVjHgU-yC3"
      },
      "execution_count": null,
      "outputs": []
    },
    {
      "cell_type": "markdown",
      "source": [
        "so there is no null value now in 'reviews_per_month' column because we replaced null value by 0 value.\n"
      ],
      "metadata": {
        "id": "K-DO8BrbBdlU"
      }
    },
    {
      "cell_type": "code",
      "source": [
        "Airbnb_df.sample(6) # dataset columns changed null values."
      ],
      "metadata": {
        "id": "Qp8NJ1Gi-yAW"
      },
      "execution_count": null,
      "outputs": []
    },
    {
      "cell_type": "markdown",
      "source": [
        "**Check Unique Values for variables.**"
      ],
      "metadata": {
        "id": "Zg93viR1C9we"
      }
    },
    {
      "cell_type": "code",
      "source": [
        "Airbnb_df['listing_id'].nunique() # here listing_id has different each listings"
      ],
      "metadata": {
        "id": "7AzppVEV-x-E"
      },
      "execution_count": null,
      "outputs": []
    },
    {
      "cell_type": "code",
      "source": [
        "Airbnb_df['neighbourhood_group'].nunique() # total 5 unique neighbourhood_group in Dataset."
      ],
      "metadata": {
        "id": "J04fQZo6-x7h"
      },
      "execution_count": null,
      "outputs": []
    },
    {
      "cell_type": "code",
      "source": [
        "Airbnb_df['neighbourhood'].nunique() # there are 221 unique neighbourhood in Dataset."
      ],
      "metadata": {
        "id": "KmglEsSo-x5G"
      },
      "execution_count": null,
      "outputs": []
    },
    {
      "cell_type": "code",
      "source": [
        "Airbnb_df['host_name'].nunique() # total 11453 unique host_name in dataset."
      ],
      "metadata": {
        "id": "36xkEGXY-x2l"
      },
      "execution_count": null,
      "outputs": []
    },
    {
      "cell_type": "code",
      "source": [
        "Airbnb_df['listing_name'].nunique()  # so total 47906 is unique in dataset."
      ],
      "metadata": {
        "id": "3o9fS2KD-xz9"
      },
      "execution_count": null,
      "outputs": []
    },
    {
      "cell_type": "markdown",
      "source": [
        "Here most of the listing property is different\n",
        "\n",
        "few listings/property with same names has different hosts in different areas/neighbourhoods of a neighbourhood_group.\n"
      ],
      "metadata": {
        "id": "f6PyeqMfFW6y"
      }
    },
    {
      "cell_type": "code",
      "source": [
        "Airbnb_df[Airbnb_df['host_name']=='David']['listing_name'].nunique()\n",
        "# here same host David operates different 402 listing/property"
      ],
      "metadata": {
        "id": "kXHSxtHWF9Pm"
      },
      "execution_count": null,
      "outputs": []
    },
    {
      "cell_type": "code",
      "source": [
        "Airbnb_df[Airbnb_df['listing_name']==Airbnb_df['host_name']].head()\n",
        "\n",
        "# there are few listings where the listing/property name and the host have same names\n",
        "\n"
      ],
      "metadata": {
        "id": "JI4TG-a0F9MI"
      },
      "execution_count": null,
      "outputs": []
    },
    {
      "cell_type": "code",
      "source": [
        "Airbnb_df.loc[(Airbnb_df['neighbourhood_group']=='Queens') & (Airbnb_df['host_name']=='Alex')].head(4)\n",
        "\n",
        "# Same host have hosted different listing/property in different or same neighbourhood in same neighbourhood groups\n",
        "# like Alex hosted different listings in most of different neighbourhood and there are same also in queens neighbourhood_group!\n",
        "\n"
      ],
      "metadata": {
        "id": "LNlMz28eF9J7"
      },
      "execution_count": null,
      "outputs": []
    },
    {
      "cell_type": "markdown",
      "source": [
        "**Describe the Dataset and removing outliers**"
      ],
      "metadata": {
        "id": "xvb8UycKgNPy"
      }
    },
    {
      "cell_type": "code",
      "source": [
        "# describe the outliers\n",
        "Airbnb_df.describe()"
      ],
      "metadata": {
        "id": "mrt9l-1UF9Hs"
      },
      "execution_count": null,
      "outputs": []
    },
    {
      "cell_type": "code",
      "source": [
        "# Here we find outliers in price columns.\n",
        "sns.boxplot(x= Airbnb_df['price'])\n",
        "plt.show()"
      ],
      "metadata": {
        "id": "KJK_Qm4xF9FM"
      },
      "execution_count": null,
      "outputs": []
    },
    {
      "cell_type": "markdown",
      "source": [
        "**using IQR technique**"
      ],
      "metadata": {
        "id": "4uYZo9CphUue"
      }
    },
    {
      "cell_type": "code",
      "source": [
        "# writing a outlier function for removing outliers in important columns.\n",
        "def iqr_technique(DFcolumn):\n",
        "  Q1 = np.percentile(DFcolumn, 25)\n",
        "  Q3 = np.percentile(DFcolumn, 75)\n",
        "  IQR = Q3 - Q1\n",
        "  lower_range = Q1 - (1.5 * IQR)\n",
        "  upper_range = Q3 + (1.5 * IQR)                        # interquantile range\n",
        "\n",
        "  return lower_range,upper_range\n",
        "\n"
      ],
      "metadata": {
        "id": "FpSaBFWaF9C3"
      },
      "execution_count": null,
      "outputs": []
    },
    {
      "cell_type": "code",
      "source": [
        "lower_bound,upper_bound = iqr_technique(Airbnb_df['price'])\n",
        "\n",
        "Airbnb_df = Airbnb_df[(Airbnb_df.price>lower_bound) & (Airbnb_df.price<upper_bound)]"
      ],
      "metadata": {
        "id": "NsXQbUMxF9Ad"
      },
      "execution_count": null,
      "outputs": []
    },
    {
      "cell_type": "code",
      "source": [
        "# so the outliers are removed from price column now check with boxplot and also check shape of new Dataframe!\n",
        "\n",
        "sns.boxplot(x = Airbnb_df['price'])\n",
        "print(Airbnb_df.shape)"
      ],
      "metadata": {
        "id": "h5JwN5y4iB0x"
      },
      "execution_count": null,
      "outputs": []
    },
    {
      "cell_type": "code",
      "source": [
        "# so here outliers are removed, see the new max price\n",
        "print(Airbnb_df['price'].max())"
      ],
      "metadata": {
        "id": "McU1WHfXiBxb"
      },
      "execution_count": null,
      "outputs": []
    },
    {
      "cell_type": "markdown",
      "source": [
        "**Data Vizualization**"
      ],
      "metadata": {
        "id": "2BLrwp-qiMgm"
      }
    },
    {
      "cell_type": "markdown",
      "source": [
        "**(1) Distribution Of Airbnb Bookings Price Range Using Histogram**"
      ],
      "metadata": {
        "id": "nj67_wjBcSzo"
      }
    },
    {
      "cell_type": "code",
      "source": [
        "# Creat a figure with a custom size\n",
        "plt.figure(figsize=(12,6))\n",
        "\n",
        "# set the seaborn theme\n",
        "sns.set_theme(style=\"ticks\")\n",
        "\n",
        "# Create a histogram 'price' column of the Aibnb_df DataFrame\n",
        "# using displot function and specifify the color\n",
        "sns.distplot(Airbnb_df['price'],color=('b'))\n",
        "\n",
        "#Add labels to the x-axis and y-axis\n",
        "plt.xlabel('Price', fontsize=14)\n",
        "plt.ylabel('Density', fontsize=14)\n",
        "\n",
        "# Add a title to the plot\n",
        "plt.title('Distribution of Airbnb Prices',fontsize=15)\n",
        ""
      ],
      "metadata": {
        "id": "l7opgy1GcPQv"
      },
      "execution_count": null,
      "outputs": []
    },
    {
      "cell_type": "markdown",
      "source": [
        "*observations -->\n",
        "\n",
        "The range of prices being charged on Airbnb appears to be from 20 to 280 dollars , with the majority of listings falling in the price range of 50 to 150 dollars.\n",
        "\n",
        "The distribution of prices appears to have a peak in the 50 to 150 dollars range, with a relatively lower density of listings in higher and lower price ranges.\n",
        "\n",
        "There may be fewer listings available at prices above 250 dollars, as\n",
        "\n",
        "the density of listings drops significantly in this range."
      ],
      "metadata": {
        "id": "Xbt5_dLqeUID"
      }
    },
    {
      "cell_type": "markdown",
      "source": [
        "**(2) Average Price Of Each Neighborhood Group using Point Plot**"
      ],
      "metadata": {
        "id": "vDeyi39pwG8i"
      }
    },
    {
      "cell_type": "code",
      "source": [
        "# Group the Airbnb dataset by neighborhood group and calculate the mean of each group\n",
        "grouped = Airbnb_df.groupby(\"neighbourhood_group\").mean()\n",
        "\n",
        "# Reset the index of the grouped dataframe so that the neighborhood group becomes a column\n",
        "neighbourhood_group_avg_price = grouped.reset_index()\n",
        "\n",
        "# Rename the \"price\" column to \"avg_price\"\n",
        "neighbourhood_group_avg_price = round(neighbourhood_group_avg_price.rename(columns={\"price\": \"avg_price\"}),2)\n",
        "\n",
        "# Select only the \"neighbourhood_group\" and \"avg_price\" columns\n",
        "neighbourhood_group_avg_price[['neighbourhood_group', 'avg_price']].head()"
      ],
      "metadata": {
        "id": "O3OV2j1fiBlI"
      },
      "execution_count": null,
      "outputs": []
    },
    {
      "cell_type": "code",
      "source": [
        "from statistics import mean\n",
        "\n",
        "# Create the point plot\n",
        "sns.barplot(x = 'neighbourhood_group', y='price', data=Airbnb_df, estimator = np.mean)\n",
        "\n",
        "# Add axis labels and a title\n",
        "plt.xlabel('Neighbourhood Group',fontsize=14)\n",
        "plt.ylabel('Average Price',fontsize=14)\n",
        "plt.title('Average Price by Neighbourhood Group',fontsize=15)\n"
      ],
      "metadata": {
        "id": "31KQTnrKwNhH"
      },
      "execution_count": null,
      "outputs": []
    },
    {
      "cell_type": "markdown",
      "source": [
        "Observations -->\n",
        "\n",
        "The average price of a listing in New York City varies significantly across different neighborhoods, with Manhattan having the highest 146 dollars/day average price and the Bronx having the lowest near 77 dollars/day.\n",
        "\n",
        "In second graph price distribution is very high in Manhattan and Brooklyn.\n",
        "\n",
        "but Manhattan have more varity in price range, you can see in second violinplot.\n",
        "\n",
        "The average price increases as you move from the outer boroughs (Bronx, Brooklyn, Queens, and Staten Island) towards the center of the city (Manhattan).\n",
        "\n",
        "The average price in queens and Staten Island is relatively similar, despite being in different parts of the city.\n",
        "\n",
        "The data suggests that the overall cost of living in New York City is higher in the center of the city (Manhattan) compared to the outer boroughs. This is likely due to the fact that Manhattan is the most densely populated and commercially important borough, and therefore has higher demand for housing in the centrally located neighborhoods\n",
        "\n"
      ],
      "metadata": {
        "id": "QSdMACm9w5h0"
      }
    },
    {
      "cell_type": "code",
      "source": [
        "# Create the violin plot for price distribution in each Neighbourhood_groups\n",
        "sns.violinplot(x='neighbourhood_group',y='price', data = Airbnb_df)"
      ],
      "metadata": {
        "id": "FChxI8sEwNdw"
      },
      "execution_count": null,
      "outputs": []
    },
    {
      "cell_type": "markdown",
      "source": [
        "Observations -->\n",
        "\n",
        "price distribution is very high in Manhattan and Brooklyn. but Manhattan have more Diversity in price range, you can see in violin plot.\n",
        "\n",
        "Queens and Bronx have same price distribution but in Queens area more distribution in 50\n",
        " but diversity in price is not like Manhattan and Brooklyn.\n",
        "\n"
      ],
      "metadata": {
        "id": "NwGRHKfcyLli"
      }
    },
    {
      "cell_type": "markdown",
      "source": [
        "\n",
        " **(3)Top Neighborhoods by Listing/property using Bar plot**"
      ],
      "metadata": {
        "id": "WAfpJvP5ysxm"
      }
    },
    {
      "cell_type": "code",
      "source": [
        "# create a new DataFrame that displays the top 10 neighborhoods in the Airbnb NYC dataset based on the number of listings in each neighborhood\n",
        "Top_Neighborhoods = Airbnb_df['neighbourhood'].value_counts()[:10].reset_index()\n",
        "\n",
        "# rename the columns of the resulting DataFrame to 'Top_Neighborhoods' and 'Listing_Counts'\n",
        "Top_Neighborhoods.columns = ['Top_Neighborhoods', 'Listing_Counts']\n",
        "\n",
        "# display the resulting DataFrame\n",
        "Top_Neighborhoods\n"
      ],
      "metadata": {
        "id": "T_iX1wVjwNbx"
      },
      "execution_count": null,
      "outputs": []
    },
    {
      "cell_type": "code",
      "source": [
        "# Get the top 10 neighborhoods by listing count\n",
        "top_10_neigbourhoods = Airbnb_df['neighbourhood'].value_counts().nlargest(10)\n",
        "\n",
        "# Create a list of colors to use for the bars\n",
        "colors = ['c', 'g', 'olive', 'y', 'm', 'orange', '#C0C0C0', '#800000', '#008000', '#000080']\n",
        "\n",
        "# Create a bar plot of the top 10 neighborhoods using the specified colors\n",
        "top_10_neigbourhoods.plot(kind='bar', figsize=(15, 6), color = colors)\n",
        "\n",
        "# Set the x-axis label\n",
        "plt.xlabel('Neighbourhood', fontsize=14)\n",
        "\n",
        "# Set the y-axis label\n",
        "plt.ylabel('Total Listing Counts', fontsize=14)\n",
        "\n",
        "# Set the title of the plot\n",
        "plt.title('Listings by Top Neighborhoods in NYC', fontsize=15)\n"
      ],
      "metadata": {
        "id": "PbzfzQI9wNZw"
      },
      "execution_count": null,
      "outputs": []
    },
    {
      "cell_type": "markdown",
      "source": [
        "Observations -->\n",
        "\n",
        "The top neighborhoods in New York City in terms of listing counts are Williamsburg, Bedford-Stuyvesant, Harlem, Bushwick, and the Upper West Side.\n",
        "\n",
        "The top neighborhoods are primarily located in Brooklyn and Manhattan. This may be due to the fact that these boroughs have a higher overall population and a higher demand for housing.\n",
        "\n",
        "The number of listings alone may not be indicative of the overall demand for housing in a particular neighborhood, as other factors such as the cost of living and the availability of housing may also play a role."
      ],
      "metadata": {
        "id": "4MSyQjvgzSew"
      }
    },
    {
      "cell_type": "markdown",
      "source": [
        "**(4)Top Neighbourhood listing/property using Bar**"
      ],
      "metadata": {
        "id": "MAHO1ywOQu-L"
      }
    },
    {
      "cell_type": "markdown",
      "source": [
        "****"
      ],
      "metadata": {
        "id": "_UEkhwC3QrV5"
      }
    },
    {
      "cell_type": "code",
      "source": [
        "#create a new DataFrame that displays the top 10 neighborhoods in the Airbnb NYC dataset based on the number\n",
        "Top_neighbourhoods = Airbnb_df['neighbourhood'].value_counts()[:10].reset_index()\n",
        "\n",
        "# Rename the column of the DataFrame to 'Top_neighbourhoods' and  'Listing_counts'\n",
        "Top_neighbourhoods.columns = ['Top_neighbourhoods', 'Listing_Counts']\n",
        "\n",
        "# Display the resulting DataFrame\n",
        "Top_neighbourhoods\n",
        "\n",
        "\n",
        "\n"
      ],
      "metadata": {
        "id": "XdfkjpG-wNXe"
      },
      "execution_count": null,
      "outputs": []
    },
    {
      "cell_type": "code",
      "source": [
        "# Get top 10 neighbouhoods by listing counts\n",
        "top_10_neighbourhoods = Airbnb_df['neighbourhood'].value_counts().nlargest(10)\n",
        "\n",
        "# Create a list of colors to use bar plots\n",
        "colors = ['c','y','olive','g','orange','#7FFFD4','#FF4040','#7FFF00','#008000', '#000080']\n",
        "\n",
        "# create a bar plotof the top 10 neighbourhood using colors\n",
        "top_10_neigbourhoods.plot(kind = 'bar', figsize=(14,6), color= colors)\n",
        "\n",
        "# Set the x-axis label\n",
        "plt.xlabel('Neighbourhood',fontsize=10)\n",
        "\n",
        "# Set the y-axis label\n",
        "plt.ylabel('Total listing Counts', fontsize= 14)\n",
        "\n",
        "# Set the title of the plot\n",
        "plt.title('Listing by top Neighbourhood in NYC', fontsize=15)\n",
        "\n"
      ],
      "metadata": {
        "id": "ZJyQQWmQwNVF"
      },
      "execution_count": null,
      "outputs": []
    },
    {
      "cell_type": "markdown",
      "source": [
        "**Observations -->**\n",
        "\n",
        "*   The top neighborhoods in New York City in terms of listing counts are Williamsburg, Bedford-Stuyvesant, Harlem, Bushwick, and the Upper West Side.\n",
        "\n",
        "*   The top neighborhoods are primarily located in Brooklyn and Manhattan. This may be due to the fact that these boroughs have a higher overall population and a higher demand for housing.\n"
      ],
      "metadata": {
        "id": "FaHe9PKiWLtI"
      }
    },
    {
      "cell_type": "markdown",
      "source": [
        "**(5) Top Host listing property using Bar chart**"
      ],
      "metadata": {
        "id": "rzpUlLJdWjfb"
      }
    },
    {
      "cell_type": "code",
      "source": [
        "#  create a new DataFrame that displays the top 10 hosts in the Airbnb NYC dataset based on the number of listings each host has\n",
        "top_10_hosts = Airbnb_df['host_name'].value_counts()[:10].reset_index()\n",
        "\n",
        "# rename the column name of the DataFrame to 'host_name' and 'Total_listings'\n",
        "top_10_hosts.columns = ['host_name','Total_listings']\n",
        "\n",
        "# display the DataFrame\n",
        "top_10_hosts"
      ],
      "metadata": {
        "id": "dX1tDiabwNQq"
      },
      "execution_count": null,
      "outputs": []
    },
    {
      "cell_type": "code",
      "source": [
        "# Get the top 10 hosts by listing counts\n",
        "top_hosts = Airbnb_df['host_name'].value_counts()[:10]\n",
        "\n",
        "# create a bar plot\n",
        "top_hosts.plot(kind = 'bar',color='m', figsize=(16,7))\n",
        "\n",
        "#  Set the x-axis label\n",
        "plt.xlabel('top10_hosts', fontsize=14)\n",
        "\n",
        "# Set the y-axis label\n",
        "plt.ylabel('total_NYC_listings', fontsize=14)\n",
        "\n",
        "# Set the title of the plot\n",
        "plt.title('top 10 hosts on the basis of no of listings in entire NYC!', fontsize=15)\n"
      ],
      "metadata": {
        "id": "ht0HTQLuwNOJ"
      },
      "execution_count": null,
      "outputs": []
    },
    {
      "cell_type": "markdown",
      "source": [
        "*Observations -->**\n",
        "\n",
        "*   The top three hosts in terms of total listings are Michael, David, and John, who have 383, 368, and 276 listings, respectively.\n",
        "\n",
        "*   There is a relatively large gap between the top two hosts and the rest of the hosts. For example, john has 276 listings, which is significantly fewer than Michael's 383 listings.\n",
        "\n",
        "*   In this top10 list Mike has 184 listings, which is significantly fewer than\n",
        "Michael's 383 listings. This could indicate that there is a lot of variation in the success of different hosts on Airbnb."
      ],
      "metadata": {
        "id": "QDQE-6OjY1kG"
      }
    },
    {
      "cell_type": "markdown",
      "source": [
        "**(6)Number of active host is acitve in line chart**"
      ],
      "metadata": {
        "id": "JaqPuZ7QZDL8"
      }
    },
    {
      "cell_type": "code",
      "source": [
        "# create a new DataFrame that displays the number of hosts in each neighborhood group in the Airbnb NYC dataset\n",
        "host_per_location = Airbnb_df.groupby('neighbourhood_group')['listing_id'].count().reset_index()\n",
        "\n",
        "# rename the columns of the DataFrame to 'Neighbourhood_Groups' and 'Host_counts'\n",
        "host_per_location.columns = ['Neighbourhood_Groups','host_counts']\n",
        "\n",
        "# Display the DataFrame\n",
        "host_per_location\n",
        "\n"
      ],
      "metadata": {
        "id": "35cRJwi2wNL2"
      },
      "execution_count": null,
      "outputs": []
    },
    {
      "cell_type": "code",
      "source": [
        "# Group the data by neighbourhood _group and count the number of listings for each group\n",
        "host_per_location = Airbnb_df.groupby('neighbourhood_group')['listing_id'].count()\n",
        "\n",
        "# Get the list of neighbourhood names\n",
        "locations = host_per_location.index\n",
        "\n",
        "# Get the list of counts for each neighbourhood_group\n",
        "host_counts = host_per_location.values\n",
        "\n",
        "# Set the figure size\n",
        "plt.figure(figsize=(13,6))\n",
        "\n",
        "# Create a line chart with some experiments using marker function\n",
        "plt.plot(locations,host_counts,marker='o', ms =12,mew=4, mec='r')\n",
        "\n",
        "# Add a title and labels to the x-axis and y-axis\n",
        "plt.title('Number of Active Hosts per Location', fontsize='15')\n",
        "plt.xlabel('Location', fontsize='14')\n",
        "plt.ylabel('Number of Active Hosts', fontsize='14')\n",
        "\n",
        "# Show the plot\n",
        "plt.show()\n"
      ],
      "metadata": {
        "id": "-6x0KBxmbxwO"
      },
      "execution_count": null,
      "outputs": []
    },
    {
      "cell_type": "markdown",
      "source": [
        "**Observations -->**\n",
        "\n",
        "*   Manhattan has the largest number of hosts with 19501,Brooklyn has the second largest number of hosts with 19415.\n",
        "\n",
        "* After that Queens with 5567 and the Bronx with 1070. while Staten Island has the fewest with 365.\n",
        "\n",
        "*   Brooklyn and Manhattan have the largest number of hosts, with more than double the number of hosts in Queens and more than 18 times the number of hosts in the Bronx.\n"
      ],
      "metadata": {
        "id": "bGuFjQVEzyyl"
      }
    },
    {
      "cell_type": "markdown",
      "source": [
        "**(7) Average Minimum Price In Neighborhoods using Scatter and Bar chart**"
      ],
      "metadata": {
        "id": "qjyVwJrD0OhC"
      }
    },
    {
      "cell_type": "code",
      "source": [
        "# create a new DataFrame that displays the average price of Airbnb rentals in each neighborhood\n",
        "neighbourhood_avg_price = Airbnb_df.groupby('neighbourhood').mean().reset_index().rename(columns={\"price\":'avg_price'})[['neighbourhood','avg_price']]\n",
        "\n",
        "# Select top 10 which have lowest avg price\n",
        "neighbourhood_avg_price = neighbourhood_avg_price.sort_values(\"avg_price\").head(10)\n",
        "\n",
        "# join the resulting DataFrame with the 'neighbourhood_group' column from the Airbnb NYC dataset, dropping any duplicate entries\n",
        "neighbourhood_avg_price_sorted_with_group = neighbourhood_avg_price.join(Airbnb_df[['neighbourhood', 'neighbourhood_group']].drop_duplicates().set_index('neighbourhood'),\n",
        "                                                                         on='neighbourhood')\n",
        "\n",
        "# Display the resulting data\n",
        "display(neighbourhood_avg_price_sorted_with_group.style.hide_index())\n"
      ],
      "metadata": {
        "id": "hvS-WdHZbxs2"
      },
      "execution_count": null,
      "outputs": []
    },
    {
      "cell_type": "code",
      "source": [
        "neighbourhood_avg_price = (Airbnb_df.groupby(\"neighbourhood\").mean().reset_index().rename(columns={\"price\": \"avg_price\"}))[['neighbourhood', 'avg_price']]\n",
        "neighbourhood_avg_price = (neighbourhood_avg_price.sort_values(\"avg_price\"))\n",
        "\n",
        "# Group the data by neighborhood and calculate the average price\n",
        "neighbourhood_avg_price = Airbnb_df.groupby(\"neighbourhood\")[\"price\"].mean()\n",
        "\n",
        "# Create a new DataFrame with the average price for each neighborhood\n",
        "neighbourhood_prices = pd.DataFrame({\"neighbourhood\": neighbourhood_avg_price.index, \"avg_price\": neighbourhood_avg_price.values})\n",
        "\n",
        "# Merge the average price data with the original DataFrame#trying to find where the coordinates belong from the latitude and longitude\n",
        "df = Airbnb_df.merge(neighbourhood_prices, on=\"neighbourhood\")\n",
        "\n",
        "# Create the scattermapbox plot\n",
        "fig = df.plot.scatter(x=\"longitude\", y=\"latitude\", c=\"avg_price\", title=\"Average Airbnb Price by Neighborhoods in New York City\", figsize=(12,6), cmap=\"plasma\")\n",
        "fig"
      ],
      "metadata": {
        "id": "Fx5lLCRCbxqV"
      },
      "execution_count": null,
      "outputs": []
    },
    {
      "cell_type": "code",
      "source": [
        "# Extract the values from the dataset\n",
        "neighborhoods = neighbourhood_avg_price_sorted_with_group['neighbourhood']\n",
        "prices = neighbourhood_avg_price_sorted_with_group['avg_price']\n",
        "\n",
        "# Create the bar plot\n",
        "plt.figure(figsize=(15,5))\n",
        "plt.bar(neighborhoods, prices,width=0.5, color = 'orchid')\n",
        "plt.xlabel('Neighborhood')\n",
        "plt.ylabel('Average Price')\n",
        "plt.title('Average Price by Neighborhood')\n",
        "\n",
        "# Show the plot\n",
        "plt.show()"
      ],
      "metadata": {
        "id": "zocj2UuPbxn-"
      },
      "execution_count": null,
      "outputs": []
    },
    {
      "cell_type": "markdown",
      "source": [
        "**Observations -->**\n",
        "\n",
        "* All of the neighborhoods listed are located in the outer boroughs of New York City (Bronx, Queens, and Staten Island). This suggests that these neighborhoods may have a lower overall cost of living compared to neighborhoods in Manhattan and Brooklyn.\n",
        "\n",
        "*  Most of these neighborhoods are located in the Bronx and Staten Island. These boroughs tend to have a lower overall cost of living compared to Manhattan and Brooklyn.\n",
        "\n",
        "*  These neighborhoods may be attractive to renters or buyers looking for more affordable housing options in the New York City area.**"
      ],
      "metadata": {
        "id": "TJ2feDeQ3jfR"
      }
    },
    {
      "cell_type": "markdown",
      "source": [
        "**(8) Total Count of Each room type**"
      ],
      "metadata": {
        "id": "h8L3qUkW3qPL"
      }
    },
    {
      "cell_type": "code",
      "source": [
        " #create a new DataFrame that displays the number of listings of each room type in the Airbnb NYC dataset\n",
        " top_room_type = Airbnb_df['room_type'].value_counts().reset_index()\n",
        "\n",
        "# rename the columns of the resulting DataFrame to 'Room_Type' and 'Total_counts'\n",
        "top_room_type.columns = ['Room_Type', 'Total_counts']\n",
        "\n",
        "# display the resulting DataFrame\n",
        "top_room_type\n"
      ],
      "metadata": {
        "id": "H8YyBeP-bxlj"
      },
      "execution_count": null,
      "outputs": []
    },
    {
      "cell_type": "code",
      "source": [
        "# Set the figure size\n",
        "plt.figure(figsize=(10,6))\n",
        "\n",
        "# Get the room type counts\n",
        "room_type_counts = Airbnb_df['room_type'].value_counts()\n",
        "\n",
        "# Set the labels and sizes of pie chart\n",
        "labels = room_type_counts.index\n",
        "sizes = room_type_counts.values\n",
        "\n",
        "# Creat the pie chart\n",
        "plt.pie(sizes,labels=labels, autopct= '%1.1f%%')\n",
        "\n",
        "# Add a legend to the chart\n",
        "plt.legend(title='Room Type', bbox_to_anchor=(0.8, 0, 0.5, 1), fontsize='12')\n",
        "\n",
        "# Show the plot\n",
        "plt.show()\n",
        "\n",
        "\n"
      ],
      "metadata": {
        "id": "O-fPCM2pbxjJ"
      },
      "execution_count": null,
      "outputs": []
    },
    {
      "cell_type": "markdown",
      "source": [
        "**Observations -->**\n",
        "\n",
        "*  The majority of listings on Airbnb are for entire homes or apartments, with 22784 listings, followed by private rooms with 21996 listings, and shared rooms with 1138 listings.\n",
        "\n",
        "*  There is a significant difference in the number of listings for each room type. For example, there are almost 20 times as many listings for entire homes or apartments as there are for shared rooms.\n",
        "\n",
        "*  The data suggests that travelers using Airbnb have a wide range of accommodation options to choose from, including private rooms and entire homes or apartments\n"
      ],
      "metadata": {
        "id": "hBgSQPqs6_oU"
      }
    },
    {
      "cell_type": "markdown",
      "source": [
        "**(9) Stay Requirement counts by Minimum Nights using Bar chart**"
      ],
      "metadata": {
        "id": "tUN3o5kX7sdG"
      }
    },
    {
      "cell_type": "code",
      "source": [
        "# Group the DataFrame by the minimum_nights column and count the number of rows in each group\n",
        "min_nights_count = Airbnb_df.groupby('minimum_nights').size().reset_index(name = 'count')\n",
        "\n",
        "# Sort the resulting DataFrame in descending order by the count column\n",
        "min_nights_count = min_nights_count.sort_values('count', ascending=False)\n",
        "\n",
        "# Select the top 10 rows\n",
        "min_nights_count = min_nights_count.head(15)\n",
        "\n",
        "# Reset the index\n",
        "min_nights_count = min_nights_count.reset_index(drop=True)\n",
        "\n",
        "# Display the resulting DataFrame\n",
        "min_nights_count"
      ],
      "metadata": {
        "id": "aWkn5n9vbxgi"
      },
      "execution_count": null,
      "outputs": []
    },
    {
      "cell_type": "code",
      "source": [
        "# Extract the minimum_nights and count columns from the DataFrame\n",
        "minimum_nights = min_nights_count['minimum_nights']\n",
        "count = min_nights_count['count']\n",
        "\n",
        "# Set the figure size\n",
        "plt.figure(figsize=(12, 4))\n",
        "\n",
        "# Create the bar plot\n",
        "plt.bar(minimum_nights, count)\n",
        "\n",
        "# Add axis labels and a title\n",
        "plt.xlabel('Minimum Nights', fontsize='14')\n",
        "plt.ylabel('Count', fontsize='14')\n",
        "plt.title('Stay Requirement by Minimum Nights', fontsize='15')\n",
        "\n",
        "# Show the plot\n",
        "plt.show()"
      ],
      "metadata": {
        "id": "NrPgOI95bxd5"
      },
      "execution_count": null,
      "outputs": []
    },
    {
      "cell_type": "markdown",
      "source": [
        "Observations -->\n",
        "\n",
        "*   The majority of listings on Airbnb have a minimum stay requirement of 1 or 2 nights, with 12067 and 11080 listings, respectively.\n",
        "\n",
        "*   The number of listings with a minimum stay requirement decreases as the length of stay increases, with 7375 listings requiring a minimum stay of 3 nights, and so on.\n",
        "\n",
        "*   There are relatively few listings with a minimum stay requirement of 30 nights or more, with 3489 and 189 listings, respectively.**"
      ],
      "metadata": {
        "id": "TabWbQyE8XPL"
      }
    },
    {
      "cell_type": "markdown",
      "source": [
        " **(10)Total Reviews of each Neighbourhood Group by pie chart**"
      ],
      "metadata": {
        "id": "PN7ZqZ5HgKP_"
      }
    },
    {
      "cell_type": "code",
      "source": [
        "# Group the data by neighbourhood_group and calcualte the total number of reviews\n",
        "reviews_by_neighbourhood_groups = Airbnb_df.groupby('neighbourhood_group')['total_reviews'].sum()\n",
        "\n",
        "# Create a pie chart\n",
        "plt.pie(reviews_by_neighbourhood_groups,labels=reviews_by_neighbourhood_groups.index, autopct='%1.1f%%')\n",
        "\n",
        "# Plot the title\n",
        "plt.title(\"Number of Reviews by Neighbourhood Group in New York City\",fontsize='16')\n",
        "\n",
        "# show the Chart\n",
        "plt.show()"
      ],
      "metadata": {
        "id": "xS9lq-nF8W90"
      },
      "execution_count": null,
      "outputs": []
    },
    {
      "cell_type": "markdown",
      "source": [
        "**Observations -->**\n",
        "\n",
        "Brooklyn has the largest share of total reviews on Airbnb, with 43.3%, followed by Manhattan with 38.9%.\n",
        "\n",
        "Queens has the third largest share of total reviews, with 14.2%, followed by the Bronx with 2.6% and Staten Island with 1.0%.\n",
        "\n",
        "The data suggests that Airbnb is more popular in Brooklyn and Manhattan compared to the other neighborhood groups.\n",
        "\n",
        "Despite having fewer listings, Brooklyn has more reviews on Airbnb compared to Manhattan. This could indicate that Airbnb users in Brooklyn are more likely to leave reviews, or that the listings in Brooklyn are more popular or successful in generating positive reviews. It is worth noting that there could be a number of other factors that could contribute to this difference in reviews, such as the quality of the listings or the characteristics of the travelers who use Airbnb in these areas."
      ],
      "metadata": {
        "id": "DJWZ7QTsiPRB"
      }
    },
    {
      "cell_type": "markdown",
      "source": [
        "**(11) Number of Max. Reviews by Each Neighborhood Group using Pie Chart**\n",
        "\n",
        "\n"
      ],
      "metadata": {
        "id": "isRbkbMPijnJ"
      }
    },
    {
      "cell_type": "code",
      "source": [
        "reviews_by_neighbourhood_groups = Airbnb_df.groupby('neighbourhood_group')['total_reviews'].max()\n",
        "\n",
        "# create a pie chart\n",
        "plt.pie(reviews_by_neighbourhood_groups,labels=reviews_by_neighbourhood_groups.index, autopct='%1.1f%%')\n",
        "\n",
        "# Add title to the chart\n",
        "plt.title(\"Max Review by Neighbourhood Group in NYC\", fontsize= '16')\n",
        "\n",
        "# Display the chart\n",
        "plt.show()"
      ],
      "metadata": {
        "id": "3UNh3wry8TX3"
      },
      "execution_count": null,
      "outputs": []
    },
    {
      "cell_type": "markdown",
      "source": [
        "**Observations -->**\n",
        "\n",
        "Queens and Manhattan seem to be the most popular neighborhoods for reviewing, as they have both high number of maximum reviews.\n",
        "\n",
        "Queens has the highest percentage of reviews at 26.5%, but it has the third highest number of listings, behind Manhattan and Brooklyn. This suggests that Queens may be a particularly popular destination for tourists or visitors, even though it has fewer listings compared to Manhattan and Brooklyn.\n",
        "\n",
        "Manhattan and Brooklyn also have a high percentage of reviews, at 25.5% & 20.5%. This indicates that it is a popular destination for tourists or visitors as well. (number of listings higher than queens)\n",
        "\n",
        "Overall, this data suggests that Queens, Manhattan, and Brooklyn are the most popular neighborhoods for tourists or visitors, based on the high number of reviews they receive.\n",
        "\n"
      ],
      "metadata": {
        "id": "B7vTa42QlB_o"
      }
    },
    {
      "cell_type": "markdown",
      "source": [
        "**(12) Most reviewed room type per month in neighbourhood groups**"
      ],
      "metadata": {
        "id": "tcaOQAEblRWC"
      }
    },
    {
      "cell_type": "code",
      "source": [
        "f,ax=plt.subplots(figsize=(10,5))\n",
        "\n",
        "# create a stripplot that displays the number of reviews per month for each room type in the Airbnb NYC dataset\n",
        "ax = sns.stripplot(x='room_type', y='reviews_per_month', hue='neighbourhood_group',dodge=True, data=Airbnb_df, palette=\"husl\")\n",
        "\n",
        "# set the title of the plot\n",
        "ax.set_title('Most Reviewed room_types in each Neighbourhood Groups', fontsize='14')\n"
      ],
      "metadata": {
        "id": "78VVzeGD8TUS"
      },
      "execution_count": null,
      "outputs": []
    },
    {
      "cell_type": "markdown",
      "source": [
        "**Observations -->**\n",
        "\n",
        "We can see that Private room recieved the most no of reviews/month where Manhattan had the highest reviews received for Private rooms with more than 50 reviews/month, followed by Manhattan in the chase.\n",
        "\n",
        "Manhattan & Queens got the most no of reviews for Entire home/apt room type.\n",
        "\n",
        "There were less reviews recieved from shared rooms as compared to other room types and it was from Staten Island followed by Bronx."
      ],
      "metadata": {
        "id": "u_s3_7DYscyv"
      }
    },
    {
      "cell_type": "markdown",
      "source": [
        " **(13)Use latitude and longitude in scatterplot map and find neighbourhood_groups and Room types in map**"
      ],
      "metadata": {
        "id": "ODxaNiE4s2xq"
      }
    },
    {
      "cell_type": "code",
      "source": [
        "#trying to find where the coordinates belong from the latitude and longitude\n",
        "\n",
        "# set the default figure size for the seaborn library\n",
        "sns.set(rc={\"figure.figsize\": (10, 8)})\n",
        "\n",
        "# create a scatter plot that displays the longitude and latitude of the listings in the Airbnb NYC dataset\n",
        "ax = sns.scatterplot(data=Airbnb_df, x=\"longitude\", y=\"latitude\", hue='neighbourhood_group', palette='bright')\n",
        "\n",
        "# set the title of the plot\n",
        "ax.set_title('Location Co-ordinates', fontsize='14')\n",
        "\n"
      ],
      "metadata": {
        "id": "vCz0UpMq8TSR"
      },
      "execution_count": null,
      "outputs": []
    },
    {
      "cell_type": "code",
      "source": [
        "# Let's observe the type of room_types\n",
        "\n",
        "# set the default figure size for the seaborn library\n",
        "sns.set(rc={\"figure.figsize\": (10, 8)})\n",
        "\n",
        "# create a scatter plot that displays the longitude and latitude of the listings in the Airbnb NYC dataset with room_types.\n",
        "ax = sns.scatterplot(x=Airbnb_df.longitude, y=Airbnb_df.latitude, hue=Airbnb_df.room_type, palette='muted')\n",
        "\n",
        "# set the title of the plot\n",
        "ax.set_title('Distribution of type of rooms across NYC', fontsize='14')\n",
        "\n"
      ],
      "metadata": {
        "id": "BIT9NCLN8TP0"
      },
      "execution_count": null,
      "outputs": []
    },
    {
      "cell_type": "markdown",
      "source": [
        " **(14)Correlation Heatmap Visualization**"
      ],
      "metadata": {
        "id": "xEyD83qKuhkW"
      }
    },
    {
      "cell_type": "code",
      "source": [
        "# Calculate pairwise correlations between columns\n",
        "corr= Airbnb_df.corr()\n",
        "\n",
        "# Display the correlation between columns\n",
        "corr"
      ],
      "metadata": {
        "id": "aTjjCQSm8TNK"
      },
      "execution_count": null,
      "outputs": []
    },
    {
      "cell_type": "code",
      "source": [
        "# set the figure size\n",
        "plt.figure(figsize=(13,7))\n",
        "\n",
        "# Vizualitation correlation as a heatmap\n",
        "sns.heatmap(corr, cmap='BrBG', annot=True)\n",
        "\n",
        "# Display the heatmap\n",
        "plt.show()\n"
      ],
      "metadata": {
        "id": "62mtvTU58TK4"
      },
      "execution_count": null,
      "outputs": []
    },
    {
      "cell_type": "markdown",
      "source": [
        "**Observations -->**\n",
        "\n",
        "There is a moderate positive correlation (0.58) between the host_id and id columns, which suggests that hosts with more listings are more likely to have unique host IDs.\n",
        "\n",
        "There is a weak positive correlation (0.17) between the price column and the calculated_host_listings_count column, which suggests that hosts with more listings tend to charge higher prices for their listings.\n",
        "\n",
        "There is a moderate positive correlation (0.23) between the calculated_host_listings_count column and the availability_365 column, which suggests that hosts with more listings tend to have more days of availability in the next 365 days.\n",
        "\n",
        "There is a strong positive correlation (0.58) between the number_of_reviews column and the reviews_per_month column, which suggests that listings with more total reviews tend to have more reviews per month.\n"
      ],
      "metadata": {
        "id": "KmJQ6ozbvrY4"
      }
    },
    {
      "cell_type": "markdown",
      "source": [
        "# BUSINESS CONCLUSION"
      ],
      "metadata": {
        "id": "-au1z4Vbxlbk"
      }
    },
    {
      "cell_type": "markdown",
      "source": [
        "* Manhattan and Brooklyn have the highest demand for Airbnb rentals, as evidenced by the large number of listings in these neighborhoods. This could make them attractive areas for hosts to invest in property.\n",
        "\n",
        "* Manhattan is world-famous for its parks, museums, buildings, town, liberty, gardens, markets, island and also its substantial number of tourists throughout the year ,it makes sense that demand and price both high.\n",
        "\n",
        "* Brooklyn comes in second with significant number of listings and cheaper prices as compared to the Manhattan: With most listings located in Williamsburg and Bedford Stuyvesant two neighborhoods strategically close to Manhattan tourists get the chance to enjoy both boroughs equally while spending less.\n",
        "\n",
        "* Williamsburg, Bedford-Stuyvesant, Harlem, Bushwick, and the Upper West Side are the top neighborhoods in terms of listing counts, indicating strong demand for Airbnb rentals in these areas.\n",
        "\n",
        "* The average price of a listing in New York City is higher in the center of the city (Manhattan) compared to the outer boroughs. This could indicate that investing in property in Manhattan may be more lucrative for Airbnb rentals.\n",
        "\n",
        "* But Manhattan and Brooklyn have the largest number of hosts, indicating a high level of competition in these boroughs.\n",
        "\n",
        "* The data suggests that Airbnb rentals are primarily used for short-term stays, with relatively few listings requiring a minimum stay of 30 nights or more. Hosts may want to consider investing in property that can accommodate shorter stays in order to maximize their occupancy rate.\n",
        "\n",
        "* The majority of listings on Airbnb are for entire homes or apartments and also Private Rooms with relatively fewer listings for shared rooms. This suggests that travelers using Airbnb have a wide range of accommodation options to choose from, and hosts may want to consider investing in property that can accommodate multiple guests.\n",
        "\n",
        "* The data indicates that the availability of Airbnb rentals varies significantly across neighborhoods, with some neighborhoods having a high concentration of listings and others having relatively few.\n",
        "\n",
        "* The data indicates that there is a high level of competition among Airbnb hosts, with a small number of hosts dominating a large portion of the market. Hosts may want to consider investing in property in areas with relatively fewer listings in order to differentiate themselves from the competition.\n",
        "\n",
        "* The neighborhoods near the airport in Queens would have a higher average number of reviews, as they are likely to attract a lot of tourists or visitors who are passing through the area. The proximity to the airport could make these neighborhoods a convenient and appealing place to stay for travelers for short-term stay with spending less money because The price distribution is high in Manhattan and Brooklyn.\n",
        "\n",
        "\n",
        "\n",
        "\n",
        "\n",
        "\n"
      ],
      "metadata": {
        "id": "gayvXj_RxziC"
      }
    },
    {
      "cell_type": "markdown",
      "source": [
        "Thank you"
      ],
      "metadata": {
        "id": "L7UKvx37x2SZ"
      }
    }
  ]
}